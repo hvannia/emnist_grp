{
 "cells": [
  {
   "cell_type": "code",
   "execution_count": 1,
   "metadata": {},
   "outputs": [
    {
     "name": "stderr",
     "output_type": "stream",
     "text": [
      "Using TensorFlow backend.\n"
     ]
    }
   ],
   "source": [
    "# Module imports\n",
    "import numpy as np\n",
    "import pandas as pd\n",
    "import matplotlib.pyplot as plt\n",
    "\n",
    "from sklearn.model_selection import train_test_split\n",
    "\n",
    "from keras.models import Sequential, load_model\n",
    "from keras.layers import Dense, Dropout, Flatten\n",
    "from keras.layers import Conv2D, MaxPooling2D\n",
    "from keras.utils import np_utils\n",
    "import sklearn.metrics as metrics"
   ]
  },
  {
   "cell_type": "code",
   "execution_count": 2,
   "metadata": {},
   "outputs": [],
   "source": [
    "# To mitigate error seen regarding multiple OpenMP initialized\n",
    "import os\n",
    "os.environ['KMP_DUPLICATE_LIB_OK']='True'"
   ]
  },
  {
   "cell_type": "code",
   "execution_count": 3,
   "metadata": {},
   "outputs": [],
   "source": [
    "# Using the \"balanced\" emnist data set\n",
    "f_train   = '/Users/mflynn/Downloads/EMNIST/emnist/emnist-balanced-train.csv'\n",
    "f_test    = '/Users/mflynn/Downloads/EMNIST/emnist/emnist-balanced-test.csv'\n",
    "class_map = '0123456789ABCDEFGHIJKLMNOPQRSTUVWXYZabdefghnqrt'"
   ]
  },
  {
   "cell_type": "code",
   "execution_count": 4,
   "metadata": {},
   "outputs": [
    {
     "name": "stdout",
     "output_type": "stream",
     "text": [
      "Train: (112799, 785), Test: (18799, 785)\n"
     ]
    }
   ],
   "source": [
    "# Read emnist train and test data sets into respective dataframes\n",
    "train = pd.read_csv(f_train, delimiter = ',')\n",
    "test  = pd.read_csv(f_test,  delimiter = ',')\n",
    "print(f'Train: {train.shape}, Test: {test.shape}')"
   ]
  },
  {
   "cell_type": "code",
   "execution_count": 5,
   "metadata": {},
   "outputs": [
    {
     "name": "stdout",
     "output_type": "stream",
     "text": [
      "(112799, 784) (112799,) (18799, 784) (18799,)\n"
     ]
    }
   ],
   "source": [
    "# Separate categories from data sets\n",
    "train_x = train.iloc[:,1:]\n",
    "train_y = train.iloc[:,0]\n",
    "\n",
    "test_x = test.iloc[:,1:]\n",
    "test_y = test.iloc[:,0]\n",
    "\n",
    "print(train_x.shape,train_y.shape,test_x.shape,test_y.shape)"
   ]
  },
  {
   "cell_type": "code",
   "execution_count": 6,
   "metadata": {},
   "outputs": [],
   "source": [
    "# Function rotate to orient the data properly vertically and horizontally\n",
    "HEIGHT = 28\n",
    "WIDTH  = 28\n",
    "\n",
    "def rotate(image):\n",
    "    image = image.reshape([HEIGHT, WIDTH])\n",
    "    image = np.fliplr(image)\n",
    "    image = np.rot90(image)\n",
    "    return image"
   ]
  },
  {
   "cell_type": "code",
   "execution_count": 7,
   "metadata": {},
   "outputs": [
    {
     "name": "stdout",
     "output_type": "stream",
     "text": [
      "train_x: (112799, 28, 28)\n",
      " test_x: (18799, 28, 28)\n"
     ]
    }
   ],
   "source": [
    "# Flip and rotate the train and test image data\n",
    "train_x = np.asarray(train_x)\n",
    "train_x = np.apply_along_axis(rotate, 1, train_x)\n",
    "\n",
    "test_x  = np.asarray(test_x)\n",
    "test_x  = np.apply_along_axis(rotate, 1, test_x)\n",
    "print (f'train_x: {train_x.shape}\\n test_x: {test_x.shape}')"
   ]
  },
  {
   "cell_type": "code",
   "execution_count": 8,
   "metadata": {},
   "outputs": [],
   "source": [
    "# Normalize the data\n",
    "train_x = train_x.astype('float32')\n",
    "train_x /= 255\n",
    "test_x = test_x.astype('float32')\n",
    "test_x /= 255"
   ]
  },
  {
   "cell_type": "code",
   "execution_count": 9,
   "metadata": {},
   "outputs": [
    {
     "data": {
      "image/png": "[encoded data removed]",
      "text/plain": [
       "<Figure size 432x288 with 9 Axes>"
      ]
     },
     "metadata": {
      "needs_background": "light"
     },
     "output_type": "display_data"
    }
   ],
   "source": [
    "# Plot sample images\n",
    "for i in range(100, 109):\n",
    "    plt.subplot(330 + (i+1))\n",
    "    plt.imshow(train_x[i], cmap=plt.get_cmap('gray'))\n",
    "    plt.title(class_map[train_y[i]])\n"
   ]
  },
  {
   "cell_type": "code",
   "execution_count": 11,
   "metadata": {},
   "outputs": [
    {
     "data": {
      "text/plain": [
       "<matplotlib.image.AxesImage at 0x1a438ab908>"
      ]
     },
     "execution_count": 11,
     "metadata": {},
     "output_type": "execute_result"
    },
    {
     "data": {
      "image/png": "[encoded data removed]",
      "text/plain": [
       "<Figure size 432x288 with 1 Axes>"
      ]
     },
     "metadata": {
      "needs_background": "light"
     },
     "output_type": "display_data"
    }
   ],
   "source": [
    "# Plot ROi of input data set\n",
    "tmp1 = np.array(np.mean(train_x, axis=0))\n",
    "plt.imshow(tmp1, cmap=plt.get_cmap('gray'))"
   ]
  },
  {
   "cell_type": "code",
   "execution_count": 12,
   "metadata": {},
   "outputs": [
    {
     "data": {
      "text/plain": [
       "47"
      ]
     },
     "execution_count": 12,
     "metadata": {},
     "output_type": "execute_result"
    }
   ],
   "source": [
    "# Confirm number of classes\n",
    "num_classes = len(class_map)\n",
    "assert (num_classes == train_y.nunique())\n",
    "num_classes"
   ]
  },
  {
   "cell_type": "code",
   "execution_count": 13,
   "metadata": {},
   "outputs": [
    {
     "name": "stdout",
     "output_type": "stream",
     "text": [
      "train_y: (112799, 47)\n",
      " test_y: (18799, 47)\n"
     ]
    }
   ],
   "source": [
    "# One hot encoding\n",
    "num_classes = len(class_map)\n",
    "train_y = np_utils.to_categorical(train_y, num_classes)\n",
    "test_y  = np_utils.to_categorical(test_y,  num_classes)\n",
    "print (f'train_y: {train_y.shape}\\n test_y: {test_y.shape}')"
   ]
  },
  {
   "cell_type": "code",
   "execution_count": 14,
   "metadata": {},
   "outputs": [
    {
     "name": "stdout",
     "output_type": "stream",
     "text": [
      "train_x: (112799, 28, 28, 1)\n",
      " test_x: (18799, 28, 28, 1)\n"
     ]
    }
   ],
   "source": [
    "# Reshape image for CNN\n",
    "train_x = train_x.reshape(-1, HEIGHT, WIDTH, 1)\n",
    "test_x  = test_x.reshape (-1, HEIGHT, WIDTH, 1)\n",
    "print (f'train_x: {train_x.shape}\\n test_x: {test_x.shape}')"
   ]
  },
  {
   "cell_type": "code",
   "execution_count": 15,
   "metadata": {},
   "outputs": [
    {
     "name": "stdout",
     "output_type": "stream",
     "text": [
      "WARNING:tensorflow:From /Users/mflynn/anaconda3/lib/python3.7/site-packages/tensorflow/python/framework/op_def_library.py:263: colocate_with (from tensorflow.python.framework.ops) is deprecated and will be removed in a future version.\n",
      "Instructions for updating:\n",
      "Colocations handled automatically by placer.\n",
      "WARNING:tensorflow:From /Users/mflynn/anaconda3/lib/python3.7/site-packages/keras/backend/tensorflow_backend.py:3445: calling dropout (from tensorflow.python.ops.nn_ops) with keep_prob is deprecated and will be removed in a future version.\n",
      "Instructions for updating:\n",
      "Please use `rate` instead of `keep_prob`. Rate should be set to `rate = 1 - keep_prob`.\n",
      "_________________________________________________________________\n",
      "Layer (type)                 Output Shape              Param #   \n",
      "=================================================================\n",
      "conv2d_1 (Conv2D)            (None, 28, 28, 128)       3328      \n",
      "_________________________________________________________________\n",
      "max_pooling2d_1 (MaxPooling2 (None, 14, 14, 128)       0         \n",
      "_________________________________________________________________\n",
      "conv2d_2 (Conv2D)            (None, 14, 14, 64)        73792     \n",
      "_________________________________________________________________\n",
      "max_pooling2d_2 (MaxPooling2 (None, 7, 7, 64)          0         \n",
      "_________________________________________________________________\n",
      "flatten_1 (Flatten)          (None, 3136)              0         \n",
      "_________________________________________________________________\n",
      "dense_1 (Dense)              (None, 128)               401536    \n",
      "_________________________________________________________________\n",
      "dropout_1 (Dropout)          (None, 128)               0         \n",
      "_________________________________________________________________\n",
      "dense_2 (Dense)              (None, 47)                6063      \n",
      "=================================================================\n",
      "Total params: 484,719\n",
      "Trainable params: 484,719\n",
      "Non-trainable params: 0\n",
      "_________________________________________________________________\n"
     ]
    }
   ],
   "source": [
    "# Build the model\n",
    "model = Sequential()\n",
    "\n",
    "model.add(Conv2D(filters=128, kernel_size=(5,5), padding = 'same', activation='relu',\\\n",
    "                 input_shape=(HEIGHT, WIDTH,1)))\n",
    "model.add(MaxPooling2D(pool_size=(2,2), strides=(2,2)))\n",
    "model.add(Conv2D(filters=64, kernel_size=(3,3) , padding = 'same', activation='relu'))\n",
    "model.add(MaxPooling2D(pool_size=(2,2)))\n",
    "\n",
    "model.add(Flatten())\n",
    "model.add(Dense(units=128, activation='relu'))\n",
    "model.add(Dropout(.5))\n",
    "model.add(Dense(units=num_classes, activation='softmax'))\n",
    "\n",
    "model.summary()"
   ]
  },
  {
   "cell_type": "code",
   "execution_count": 16,
   "metadata": {},
   "outputs": [],
   "source": [
    "# Compile the model\n",
    "model.compile(loss='categorical_crossentropy', optimizer='adam', metrics=['accuracy'])"
   ]
  },
  {
   "cell_type": "code",
   "execution_count": 17,
   "metadata": {},
   "outputs": [
    {
     "name": "stdout",
     "output_type": "stream",
     "text": [
      "WARNING:tensorflow:From /Users/mflynn/anaconda3/lib/python3.7/site-packages/tensorflow/python/ops/math_ops.py:3066: to_int32 (from tensorflow.python.ops.math_ops) is deprecated and will be removed in a future version.\n",
      "Instructions for updating:\n",
      "Use tf.cast instead.\n",
      "Train on 101519 samples, validate on 11280 samples\n",
      "Epoch 1/15\n",
      "101519/101519 [==============================] - 299s 3ms/step - loss: 1.5574 - acc: 0.5608 - val_loss: 0.5637 - val_acc: 0.8144\n",
      "Epoch 2/15\n",
      "101519/101519 [==============================] - 296s 3ms/step - loss: 0.7479 - acc: 0.7643 - val_loss: 0.4520 - val_acc: 0.8433\n",
      "Epoch 3/15\n",
      "101519/101519 [==============================] - 295s 3ms/step - loss: 0.6188 - acc: 0.7997 - val_loss: 0.4086 - val_acc: 0.8533\n",
      "Epoch 4/15\n",
      "101519/101519 [==============================] - 293s 3ms/step - loss: 0.5505 - acc: 0.8200 - val_loss: 0.3908 - val_acc: 0.8617\n",
      "Epoch 5/15\n",
      "101519/101519 [==============================] - 293s 3ms/step - loss: 0.5085 - acc: 0.8299 - val_loss: 0.3704 - val_acc: 0.8652\n",
      "Epoch 6/15\n",
      "101519/101519 [==============================] - 290s 3ms/step - loss: 0.4809 - acc: 0.8385 - val_loss: 0.3571 - val_acc: 0.8719\n",
      "Epoch 7/15\n",
      "101519/101519 [==============================] - 290s 3ms/step - loss: 0.4528 - acc: 0.8459 - val_loss: 0.3489 - val_acc: 0.8730\n",
      "Epoch 8/15\n",
      "101519/101519 [==============================] - 291s 3ms/step - loss: 0.4346 - acc: 0.8520 - val_loss: 0.3465 - val_acc: 0.8743\n",
      "Epoch 9/15\n",
      "101519/101519 [==============================] - 290s 3ms/step - loss: 0.4212 - acc: 0.8548 - val_loss: 0.3468 - val_acc: 0.8763\n",
      "Epoch 10/15\n",
      "101519/101519 [==============================] - 291s 3ms/step - loss: 0.4044 - acc: 0.8600 - val_loss: 0.3404 - val_acc: 0.8736\n",
      "Epoch 11/15\n",
      "101519/101519 [==============================] - 291s 3ms/step - loss: 0.3921 - acc: 0.8629 - val_loss: 0.3314 - val_acc: 0.8784\n",
      "Epoch 12/15\n",
      "101519/101519 [==============================] - 291s 3ms/step - loss: 0.3812 - acc: 0.8662 - val_loss: 0.3371 - val_acc: 0.8780\n",
      "Epoch 13/15\n",
      "101519/101519 [==============================] - 292s 3ms/step - loss: 0.3734 - acc: 0.8679 - val_loss: 0.3272 - val_acc: 0.8785\n",
      "Epoch 14/15\n",
      "101519/101519 [==============================] - 299s 3ms/step - loss: 0.3617 - acc: 0.8702 - val_loss: 0.3255 - val_acc: 0.8800\n",
      "Epoch 15/15\n",
      "101519/101519 [==============================] - 298s 3ms/step - loss: 0.3505 - acc: 0.8748 - val_loss: 0.3255 - val_acc: 0.8808\n"
     ]
    }
   ],
   "source": [
    "# Generate the model\n",
    "history = model.fit(train_x, train_y, epochs=15, batch_size=512, verbose=1, validation_split=0.1)"
   ]
  },
  {
   "cell_type": "code",
   "execution_count": 18,
   "metadata": {},
   "outputs": [
    {
     "data": {
      "text/html": [
       "<div>\n",
       "<style scoped>\n",
       "    .dataframe tbody tr th:only-of-type {\n",
       "        vertical-align: middle;\n",
       "    }\n",
       "\n",
       "    .dataframe tbody tr th {\n",
       "        vertical-align: top;\n",
       "    }\n",
       "\n",
       "    .dataframe thead th {\n",
       "        text-align: right;\n",
       "    }\n",
       "</style>\n",
       "<table border=\"1\" class=\"dataframe\">\n",
       "  <thead>\n",
       "    <tr style=\"text-align: right;\">\n",
       "      <th></th>\n",
       "      <th>val_loss</th>\n",
       "      <th>val_acc</th>\n",
       "      <th>loss</th>\n",
       "      <th>acc</th>\n",
       "    </tr>\n",
       "  </thead>\n",
       "  <tbody>\n",
       "    <tr>\n",
       "      <th>0</th>\n",
       "      <td>0.563725</td>\n",
       "      <td>0.814362</td>\n",
       "      <td>1.557406</td>\n",
       "      <td>0.560821</td>\n",
       "    </tr>\n",
       "    <tr>\n",
       "      <th>1</th>\n",
       "      <td>0.451961</td>\n",
       "      <td>0.843262</td>\n",
       "      <td>0.747936</td>\n",
       "      <td>0.764251</td>\n",
       "    </tr>\n",
       "    <tr>\n",
       "      <th>2</th>\n",
       "      <td>0.408614</td>\n",
       "      <td>0.853280</td>\n",
       "      <td>0.618804</td>\n",
       "      <td>0.799703</td>\n",
       "    </tr>\n",
       "    <tr>\n",
       "      <th>3</th>\n",
       "      <td>0.390810</td>\n",
       "      <td>0.861702</td>\n",
       "      <td>0.550520</td>\n",
       "      <td>0.819975</td>\n",
       "    </tr>\n",
       "    <tr>\n",
       "      <th>4</th>\n",
       "      <td>0.370367</td>\n",
       "      <td>0.865160</td>\n",
       "      <td>0.508514</td>\n",
       "      <td>0.829923</td>\n",
       "    </tr>\n",
       "    <tr>\n",
       "      <th>5</th>\n",
       "      <td>0.357104</td>\n",
       "      <td>0.871897</td>\n",
       "      <td>0.480856</td>\n",
       "      <td>0.838543</td>\n",
       "    </tr>\n",
       "    <tr>\n",
       "      <th>6</th>\n",
       "      <td>0.348900</td>\n",
       "      <td>0.872961</td>\n",
       "      <td>0.452783</td>\n",
       "      <td>0.845920</td>\n",
       "    </tr>\n",
       "    <tr>\n",
       "      <th>7</th>\n",
       "      <td>0.346452</td>\n",
       "      <td>0.874291</td>\n",
       "      <td>0.434577</td>\n",
       "      <td>0.852047</td>\n",
       "    </tr>\n",
       "    <tr>\n",
       "      <th>8</th>\n",
       "      <td>0.346764</td>\n",
       "      <td>0.876330</td>\n",
       "      <td>0.421208</td>\n",
       "      <td>0.854806</td>\n",
       "    </tr>\n",
       "    <tr>\n",
       "      <th>9</th>\n",
       "      <td>0.340439</td>\n",
       "      <td>0.873582</td>\n",
       "      <td>0.404400</td>\n",
       "      <td>0.860007</td>\n",
       "    </tr>\n",
       "    <tr>\n",
       "      <th>10</th>\n",
       "      <td>0.331357</td>\n",
       "      <td>0.878369</td>\n",
       "      <td>0.392074</td>\n",
       "      <td>0.862912</td>\n",
       "    </tr>\n",
       "    <tr>\n",
       "      <th>11</th>\n",
       "      <td>0.337065</td>\n",
       "      <td>0.878014</td>\n",
       "      <td>0.381198</td>\n",
       "      <td>0.866163</td>\n",
       "    </tr>\n",
       "    <tr>\n",
       "      <th>12</th>\n",
       "      <td>0.327167</td>\n",
       "      <td>0.878457</td>\n",
       "      <td>0.373434</td>\n",
       "      <td>0.867926</td>\n",
       "    </tr>\n",
       "    <tr>\n",
       "      <th>13</th>\n",
       "      <td>0.325492</td>\n",
       "      <td>0.879965</td>\n",
       "      <td>0.361716</td>\n",
       "      <td>0.870211</td>\n",
       "    </tr>\n",
       "    <tr>\n",
       "      <th>14</th>\n",
       "      <td>0.325465</td>\n",
       "      <td>0.880762</td>\n",
       "      <td>0.350451</td>\n",
       "      <td>0.874792</td>\n",
       "    </tr>\n",
       "  </tbody>\n",
       "</table>\n",
       "</div>"
      ],
      "text/plain": [
       "    val_loss   val_acc      loss       acc\n",
       "0   0.563725  0.814362  1.557406  0.560821\n",
       "1   0.451961  0.843262  0.747936  0.764251\n",
       "2   0.408614  0.853280  0.618804  0.799703\n",
       "3   0.390810  0.861702  0.550520  0.819975\n",
       "4   0.370367  0.865160  0.508514  0.829923\n",
       "5   0.357104  0.871897  0.480856  0.838543\n",
       "6   0.348900  0.872961  0.452783  0.845920\n",
       "7   0.346452  0.874291  0.434577  0.852047\n",
       "8   0.346764  0.876330  0.421208  0.854806\n",
       "9   0.340439  0.873582  0.404400  0.860007\n",
       "10  0.331357  0.878369  0.392074  0.862912\n",
       "11  0.337065  0.878014  0.381198  0.866163\n",
       "12  0.327167  0.878457  0.373434  0.867926\n",
       "13  0.325492  0.879965  0.361716  0.870211\n",
       "14  0.325465  0.880762  0.350451  0.874792"
      ]
     },
     "execution_count": 18,
     "metadata": {},
     "output_type": "execute_result"
    }
   ],
   "source": [
    "# Save accuracy, loss data in data frame\n",
    "hdf = pd.DataFrame(history.history)\n",
    "hdf"
   ]
  },
  {
   "cell_type": "code",
   "execution_count": 19,
   "metadata": {},
   "outputs": [
    {
     "name": "stdout",
     "output_type": "stream",
     "text": [
      "18799/18799 [==============================] - 21s 1ms/step\n"
     ]
    },
    {
     "data": {
      "text/plain": [
       "[0.3410529330903098, 0.8829724990032386]"
      ]
     },
     "execution_count": 19,
     "metadata": {},
     "output_type": "execute_result"
    }
   ],
   "source": [
    "# Evaluate model results on the test data\n",
    "model.evaluate(test_x, test_y, batch_size=512, verbose=1)"
   ]
  },
  {
   "cell_type": "code",
   "execution_count": 20,
   "metadata": {},
   "outputs": [],
   "source": [
    "# Save the model to file for use in application\n",
    "model.save('./cnnmodel.sav')"
   ]
  },
  {
   "cell_type": "code",
   "execution_count": 21,
   "metadata": {},
   "outputs": [
    {
     "name": "stdout",
     "output_type": "stream",
     "text": [
      "18799/18799 [==============================] - 21s 1ms/step\n"
     ]
    },
    {
     "data": {
      "text/plain": [
       "[0.3410529330903098, 0.8829724990032386]"
      ]
     },
     "execution_count": 21,
     "metadata": {},
     "output_type": "execute_result"
    }
   ],
   "source": [
    "# Load the saved model and confirm original results\n",
    "ldmodel = load_model('./cnnmodel.sav')\n",
    "\n",
    "ldmodel.evaluate(test_x, test_y, batch_size=512, verbose=1)"
   ]
  },
  {
   "cell_type": "code",
   "execution_count": 22,
   "metadata": {},
   "outputs": [],
   "source": [
    "hdf.to_csv('./emnist_cnn_history.csv')"
   ]
  },
  {
   "cell_type": "code",
   "execution_count": null,
   "metadata": {},
   "outputs": [],
   "source": []
  }
 ],
 "metadata": {
  "kernelspec": {
   "display_name": "Python 3",
   "language": "python",
   "name": "python3"
  },
  "language_info": {
   "codemirror_mode": {
    "name": "ipython",
    "version": 3
   },
   "file_extension": ".py",
   "mimetype": "text/x-python",
   "name": "python",
   "nbconvert_exporter": "python",
   "pygments_lexer": "ipython3",
   "version": "3.7.3"
  }
 },
 "nbformat": 4,
 "nbformat_minor": 2
}
